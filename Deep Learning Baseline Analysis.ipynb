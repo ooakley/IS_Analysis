{
 "cells": [
  {
   "cell_type": "code",
   "execution_count": 1,
   "id": "011b1687-474e-42e5-ab64-307eda653416",
   "metadata": {},
   "outputs": [],
   "source": [
    "import os\n",
    "import numpy as np\n",
    "import pandas as pd\n",
    "import seaborn as sns\n",
    "import matplotlib.pyplot as plt\n",
    "import matplotlib.patches as mpatches\n",
    "\n",
    "from sklearn.decomposition import PCA\n",
    "from sklearn.discriminant_analysis import LinearDiscriminantAnalysis\n",
    "from sklearn.ensemble import RandomForestClassifier\n",
    "from sklearn.metrics import confusion_matrix, plot_confusion_matrix\n",
    "\n",
    "from scipy import stats\n",
    "from scipy.stats import wasserstein_distance"
   ]
  },
  {
   "cell_type": "code",
   "execution_count": 2,
   "id": "1682a48a-8529-49b4-92d3-d991964c4def",
   "metadata": {},
   "outputs": [],
   "source": [
    "def get_pandas_dict(dirpath):\n",
    "    # Getting filelist:\n",
    "    file_list = os.listdir(dirpath)\n",
    "    pandas_dict = {}\n",
    "\n",
    "    # Iterating through list:\n",
    "    for filename in file_list:\n",
    "        filepath = os.path.join(dirpath, filename)\n",
    "        if os.path.isdir(filepath):\n",
    "            continue\n",
    "        if \".txt\" not in filepath:\n",
    "            continue\n",
    "        pandas_dict[filename.split(\".\")[0]] = pd.read_csv(filepath, header=2, sep=\"\\t\")\n",
    "\n",
    "    return pandas_dict"
   ]
  },
  {
   "cell_type": "code",
   "execution_count": 3,
   "id": "7518d36b-f8d6-40db-a4b6-530b56ebe6e0",
   "metadata": {},
   "outputs": [],
   "source": [
    "pd_dict = get_pandas_dict(\"Deep Learning Baseline Analysis/Input Feature Files\")"
   ]
  },
  {
   "cell_type": "code",
   "execution_count": 4,
   "id": "854249c8-9ded-41ec-820f-9a82a1e1ad8f",
   "metadata": {},
   "outputs": [
    {
     "data": {
      "text/plain": [
       "['F91SCTRL_0',\n",
       " 'F91SDOX_0',\n",
       " 'L4QCTRL_0',\n",
       " 'L4QDOX_0',\n",
       " 'R45HCTRL_0',\n",
       " 'R45HDOX_0',\n",
       " 'WTCTRL_0',\n",
       " 'WTDOX_0']"
      ]
     },
     "execution_count": 4,
     "metadata": {},
     "output_type": "execute_result"
    }
   ],
   "source": [
    "keys = list(pd_dict.keys())\n",
    "keys.sort()\n",
    "keys"
   ]
  },
  {
   "cell_type": "code",
   "execution_count": 6,
   "id": "ffc90a21-1aab-4477-b1d3-c0200aa133fc",
   "metadata": {},
   "outputs": [
    {
     "data": {
      "text/plain": [
       "['Area_M01',\n",
       " 'Bkgd Mean_Ch02',\n",
       " 'Bkgd StdDev_Ch02',\n",
       " 'Bright Detail Intensity R7_M02_Ch02',\n",
       " 'Bright Detail Intensity R7_M02_Ch02 / Intensity_MC_Ch02',\n",
       " 'Circularity_M01',\n",
       " 'Diameter_M01',\n",
       " 'Gradient RMS_M01_Ch01',\n",
       " 'Intensity_MC_Ch01',\n",
       " 'Intensity_MC_Ch02',\n",
       " 'Intensity_MC_Ch06',\n",
       " 'Object Number',\n",
       " 'Saturation Count_M02_Ch02']"
      ]
     },
     "execution_count": 6,
     "metadata": {},
     "output_type": "execute_result"
    }
   ],
   "source": [
    "features = list(pd_dict[\"WTCTRL_0\"])\n",
    "features.sort()\n",
    "features"
   ]
  },
  {
   "cell_type": "code",
   "execution_count": 11,
   "id": "af3caa2c-48ec-42a3-8656-d238beef2e09",
   "metadata": {},
   "outputs": [
    {
     "name": "stdout",
     "output_type": "stream",
     "text": [
      "7547.176863661062\n",
      "8810.641067402752\n",
      "6799.022458779614\n",
      "9397.494585491004\n",
      "9160.910682177402\n",
      "16161.442621639733\n",
      "6420.518111722488\n",
      "17366.01203383015\n"
     ]
    }
   ],
   "source": [
    "condition_order = ['WT', 'F91S', 'L4Q', 'R45H']\n",
    "treatment_order = ['CTRL', 'DOX']\n",
    "\n",
    "for cond in condition_order:\n",
    "    for treatment in treatment_order:\n",
    "        key = cond + treatment + \"_0\"\n",
    "        bdi_array = np.array(pd_dict[key][\"Bright Detail Intensity R7_M02_Ch02\"])\n",
    "        print(np.mean(bdi_array))"
   ]
  },
  {
   "cell_type": "code",
   "execution_count": null,
   "id": "b527a546-e647-4804-8ccb-e6fafd910c08",
   "metadata": {},
   "outputs": [],
   "source": []
  }
 ],
 "metadata": {
  "kernelspec": {
   "display_name": "Python 3 (ipykernel)",
   "language": "python",
   "name": "python3"
  },
  "language_info": {
   "codemirror_mode": {
    "name": "ipython",
    "version": 3
   },
   "file_extension": ".py",
   "mimetype": "text/x-python",
   "name": "python",
   "nbconvert_exporter": "python",
   "pygments_lexer": "ipython3",
   "version": "3.9.12"
  }
 },
 "nbformat": 4,
 "nbformat_minor": 5
}
