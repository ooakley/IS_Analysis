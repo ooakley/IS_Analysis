{
 "cells": [
  {
   "cell_type": "code",
   "execution_count": null,
   "id": "65edba31-48f9-4d66-aa61-e3ebbc633f9d",
   "metadata": {},
   "outputs": [],
   "source": [
    "# Decorrelation helper functions:\n",
    "def cov(X, Y):\n",
    "    return ((X - X.mean()) * (Y - Y.mean())).mean()\n",
    "\n",
    "def cov_projection(X, Y, F=Cov):\n",
    "    return X * (F(X, Y) / F(X, X))\n",
    " \n",
    "def to_unit_variance(x, F=Cov):\n",
    "    return x / np.sqrt(F(x, x))\n",
    " \n",
    "def random_decorrelation(A, F=Cov):\n",
    "    B = A.copy()\n",
    "    n = A.shape[1]\n",
    "    rng = default_rng()\n",
    "    shuffled_indices = list(rng.permutation(n))\n",
    "    for count, i_index in enumerate(shuffled_indices):\n",
    "        for j in range(count):\n",
    "            j_index = shuffled_indices[j]\n",
    "            B[:, i_index] = B[:, i_index] - Proj(B[:, j_index], B[:, i_index], F=F)\n",
    "        B[:, i_index] = to_unit_variance(B[:, i_index], F=F)\n",
    "    return B"
   ]
  },
  {
   "cell_type": "code",
   "execution_count": null,
   "id": "2197eb55-a174-4aae-947e-c85cbbf92a22",
   "metadata": {},
   "outputs": [],
   "source": [
    "corr_arr = []\n",
    "for i in range(5):\n",
    "    print(i)\n",
    "    decorr_array = random_decorrelation(normed_array)\n",
    "    corr_vector = []\n",
    "    for col_idx in range(normed_array.shape[1]):\n",
    "        rho, pval = stats.spearmanr(f91s_decision_values, decorr_array[:, col_idx])\n",
    "        corr_vector.append(rho)\n",
    "    corr_vector = np.stack(corr_vector)\n",
    "    corr_arr.append(corr_vector)"
   ]
  },
  {
   "cell_type": "code",
   "execution_count": null,
   "id": "d8d34a03-1bc1-4a2f-8b6a-13783783109a",
   "metadata": {},
   "outputs": [],
   "source": [
    "# Finding most discriminable primitive features:\n",
    "# corr_arr = []\n",
    "# for col_idx in range(normed_array.shape[1]):\n",
    "#     rho, pval = stats.spearmanr(f91s_decision_values, normed_array[:, col_idx])\n",
    "#     corr_arr.append(rho)\n",
    "# corr_arr = np.stack(corr_arr)\n",
    "\n",
    "# Retrieving most relevant features for LDA transform:\n",
    "f91s_features = np.array(lda_feature_list)[std_mask][np.abs(summarised_corr_arr) > 0.05]\n",
    "important_feature_corrs = summarised_corr_arr[np.abs(summarised_corr_arr) > 0.05]\n",
    "\n",
    "# Plotting most relevant features:\n",
    "fig, ax = plt.subplots(figsize=(5, 4), dpi=150)\n",
    "feat_importances = pd.Series(important_feature_corrs, index=list(f91s_features))\n",
    "feat_importances = feat_importances.sort_values()\n",
    "\n",
    "feat_importances.plot(kind='barh', ax=ax)\n",
    "ax.tick_params(axis='y', labelrotation = 15, labelsize=6)\n",
    "plt.axvline(x=0, linewidth=1, color='k')\n",
    "\n",
    "# ax.get_yticklabels()[-6].set_color(\"red\")\n",
    "# ax.get_yticklabels()[6].set_color(\"red\")\n",
    "\n",
    "# Titling figure:\n",
    "plt.title(label=\"F91S Discriminant Axis - Highest Absolute Rank Correlations\", fontsize=6);\n",
    "plt.tight_layout()\n",
    "plt.savefig(\n",
    "    fname=\"M2 Mutant Analysis/Output Figures/F91S Discriminant Axis - Highest Absolute Rank Correlations.png\", format=\"png\"\n",
    ")"
   ]
  },
  {
   "cell_type": "code",
   "execution_count": null,
   "id": "de6c1750-8449-42b9-911d-03ecf64d86c0",
   "metadata": {},
   "outputs": [],
   "source": [
    "# Finding most discriminable primitive features:\n",
    "corr_arr = []\n",
    "for col_idx in range(normed_array.shape[1]):\n",
    "    rho, pval = stats.spearmanr(r45h_decision_values, normed_array[:, col_idx])\n",
    "    corr_arr.append(rho)\n",
    "corr_arr = np.stack(corr_arr)\n",
    "\n",
    "# Retrieving most relevant features for LDA transform:\n",
    "r45h_features = np.array(lda_feature_list)[std_mask][np.abs(corr_arr) > 0.5]\n",
    "important_feature_corrs = corr_arr[np.abs(corr_arr) > 0.5]\n",
    "\n",
    "# Plotting most relevant features:\n",
    "fig, ax = plt.subplots(figsize=(5, 4), dpi=150)\n",
    "feat_importances = pd.Series(important_feature_corrs, index=list(r45h_features))\n",
    "feat_importances = feat_importances.sort_values()\n",
    "\n",
    "feat_importances.plot(kind='barh', ax=ax)\n",
    "ax.tick_params(axis='y', labelrotation = 15, labelsize=6)\n",
    "plt.axvline(x=0, linewidth=1, color='k')\n",
    "\n",
    "# Highlighting Ch11 features:\n",
    "ax.get_yticklabels()[3].set_color(\"red\")\n",
    "ax.get_yticklabels()[6].set_color(\"red\")\n",
    "\n",
    "# Titling figure:\n",
    "plt.title(label=\"R45H Discriminant Axis - Highest Absolute Rank Correlations\", fontsize=6);\n",
    "plt.tight_layout()\n",
    "\n",
    "plt.savefig(\n",
    "    fname=\"M2 Mutant Analysis/Output Figures/R45H Discriminant Axis - Highest Absolute Rank Correlations.png\", format=\"png\"\n",
    ")"
   ]
  },
  {
   "cell_type": "code",
   "execution_count": null,
   "id": "0d4e0c58-6cbe-4409-b899-6d664f7d1075",
   "metadata": {},
   "outputs": [],
   "source": [
    "imp_feat = normed_array[:, np.abs(corr_arr) > 0.1]\n",
    "corr_mat = np.corrcoef(imp_feat, rowvar=False)\n",
    "sns.clustermap(np.abs(corr_mat))"
   ]
  }
 ],
 "metadata": {
  "kernelspec": {
   "display_name": "Python 3 (ipykernel)",
   "language": "python",
   "name": "python3"
  },
  "language_info": {
   "codemirror_mode": {
    "name": "ipython",
    "version": 3
   },
   "file_extension": ".py",
   "mimetype": "text/x-python",
   "name": "python",
   "nbconvert_exporter": "python",
   "pygments_lexer": "ipython3",
   "version": "3.9.12"
  }
 },
 "nbformat": 4,
 "nbformat_minor": 5
}
